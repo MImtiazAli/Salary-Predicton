{
  "nbformat": 4,
  "nbformat_minor": 0,
  "metadata": {
    "colab": {
      "provenance": []
    },
    "kernelspec": {
      "name": "python3",
      "display_name": "Python 3"
    },
    "language_info": {
      "name": "python"
    }
  },
  "cells": [
    {
      "cell_type": "code",
      "execution_count": 18,
      "metadata": {
        "id": "jFDF7Zggct3p"
      },
      "outputs": [],
      "source": [
        "import numpy as np\n",
        "import pandas as pd\n",
        "import matplotlib.pyplot as plt\n",
        "from sklearn.model_selection import train_test_split\n",
        "from sklearn.linear_model import LinearRegression\n",
        "from sklearn.metrics import mean_squared_error, r2_score"
      ]
    },
    {
      "cell_type": "code",
      "source": [
        "data = pd.read_csv('Salarypre.csv')"
      ],
      "metadata": {
        "id": "_gtS02CYiH5v"
      },
      "execution_count": 19,
      "outputs": []
    },
    {
      "cell_type": "code",
      "source": [
        "print(data)"
      ],
      "metadata": {
        "colab": {
          "base_uri": "https://localhost:8080/",
          "height": 0
        },
        "id": "6x-6dBGfiIVR",
        "outputId": "a56af446-b326-49e9-efbb-ec81c952081d"
      },
      "execution_count": 20,
      "outputs": [
        {
          "output_type": "stream",
          "name": "stdout",
          "text": [
            "    Unnamed: 0  YearsExperience  Salary\n",
            "0            0              1.2   39344\n",
            "1            1              1.4   46206\n",
            "2            2              1.6   37600\n",
            "3            3              2.1   43600\n",
            "4            4              2.3   39000\n",
            "5            5              3.0   56500\n",
            "6            6              3.1   43008\n",
            "7            7              3.3   64500\n",
            "8            8              3.3   57000\n",
            "9            9              3.8   63600\n",
            "10          10              4.0   57800\n",
            "11          11              4.1   57082\n",
            "12          12              4.1   61112\n",
            "13          13              4.2   67500\n",
            "14          14              4.6   66030\n",
            "15          15              5.0   83090\n",
            "16          16              5.2   81365\n",
            "17          17              5.4   93921\n",
            "18          18              6.0   90119\n",
            "19          19              6.1  101290\n",
            "20          20              6.9  105900\n",
            "21          21              7.2  112600\n",
            "22          22              7.0  114900\n",
            "23          23              8.1  122500\n",
            "24          24              8.0  137895\n",
            "25          25              8.3  138888\n",
            "26          26              8.3  147940\n",
            "27          27              8.5  155550\n",
            "28          28              8.7  169009\n",
            "29          29              8.8  170050\n",
            "30          30              8.9  189006\n"
          ]
        }
      ]
    },
    {
      "cell_type": "code",
      "source": [
        "plt.scatter(data['YearsExperience'],data['Salary'])\n",
        "plt.xlabel('YearsExperience')\n",
        "plt.ylabel('Salary')\n",
        "plt.title('Salary vs Experience')\n",
        "plt.legend()\n",
        "plt.show()"
      ],
      "metadata": {
        "colab": {
          "base_uri": "https://localhost:8080/",
          "height": 508
        },
        "id": "aC8Dpf1XiySa",
        "outputId": "a16c84aa-7284-4f5b-e2e8-3feeb1b06395"
      },
      "execution_count": 21,
      "outputs": [
        {
          "output_type": "stream",
          "name": "stderr",
          "text": [
            "/tmp/ipython-input-3437958444.py:5: UserWarning: No artists with labels found to put in legend.  Note that artists whose label start with an underscore are ignored when legend() is called with no argument.\n",
            "  plt.legend()\n"
          ]
        },
        {
          "output_type": "display_data",
          "data": {
            "text/plain": [
              "<Figure size 640x480 with 1 Axes>"
            ],
            "image/png": "[encoded data removed]"
          },
          "metadata": {}
        }
      ]
    },
    {
      "cell_type": "code",
      "source": [
        "X = data [['YearsExperience']]\n",
        "y = data ['Salary']\n",
        "\n",
        "X_train, X_test, y_train, y_test = train_test_split(X, y, test_size=0.2, random_state=42)\n",
        "\n",
        "print(f\"Training data size: {len(X_train)}\")\n",
        "print(f\"Testing data size: {len(X_test)})\")"
      ],
      "metadata": {
        "colab": {
          "base_uri": "https://localhost:8080/",
          "height": 0
        },
        "id": "aWKR7ndgjZ0K",
        "outputId": "8edac950-ceb5-4592-a494-c4ffe6add0f7"
      },
      "execution_count": 22,
      "outputs": [
        {
          "output_type": "stream",
          "name": "stdout",
          "text": [
            "Training data size: 24\n",
            "Testing data size: 7)\n"
          ]
        }
      ]
    },
    {
      "cell_type": "code",
      "source": [
        "model = LinearRegression()\n",
        "model.fit(X_train, y_train)\n",
        "\n",
        "print(f\"Model coefficients: {model.coef_}\")\n",
        "print(f\"Model intercept: {model.intercept_}\")"
      ],
      "metadata": {
        "colab": {
          "base_uri": "https://localhost:8080/",
          "height": 0
        },
        "id": "9jgXh4hAkRJv",
        "outputId": "2ebe4528-b0bb-44aa-b3b1-49f016cb4fa2"
      },
      "execution_count": 23,
      "outputs": [
        {
          "output_type": "stream",
          "name": "stdout",
          "text": [
            "Model coefficients: [16993.68838316]\n",
            "Model intercept: 1489.536223942545\n"
          ]
        }
      ]
    },
    {
      "cell_type": "code",
      "source": [
        "y_pred = model.predict(X_test)\n",
        "\n",
        "comparison = pd.DataFrame({'Actual': y_test, 'Predicted': y_pred})\n",
        "print(comparison)"
      ],
      "metadata": {
        "colab": {
          "base_uri": "https://localhost:8080/",
          "height": 0
        },
        "id": "Irp_hfVAkRXH",
        "outputId": "97dfbc05-9c2c-4678-c3ac-6882bbfac5d9"
      },
      "execution_count": 24,
      "outputs": [
        {
          "output_type": "stream",
          "name": "stdout",
          "text": [
            "    Actual      Predicted\n",
            "27  155550  145935.887481\n",
            "15   83090   86457.978140\n",
            "23  122500  139138.412128\n",
            "17   93921   93255.453493\n",
            "8    57000   57568.707888\n",
            "9    63600   66065.552080\n",
            "29  170050  151033.993996\n"
          ]
        }
      ]
    },
    {
      "cell_type": "code",
      "source": [
        "new_exp = [[20]]\n",
        "predicted_salary = model.predict(new_exp)\n",
        "print(f\"Predicted salary for {new_exp[0][0]} years of experience: {predicted_salary[0]}\")"
      ],
      "metadata": {
        "colab": {
          "base_uri": "https://localhost:8080/",
          "height": 0
        },
        "id": "VU59N_WgotaF",
        "outputId": "86d9a00f-97ac-49c0-e38f-6b231617ad03"
      },
      "execution_count": 25,
      "outputs": [
        {
          "output_type": "stream",
          "name": "stdout",
          "text": [
            "Predicted salary for 20 years of experience: 341363.3038870494\n"
          ]
        },
        {
          "output_type": "stream",
          "name": "stderr",
          "text": [
            "/usr/local/lib/python3.12/dist-packages/sklearn/utils/validation.py:2739: UserWarning: X does not have valid feature names, but LinearRegression was fitted with feature names\n",
            "  warnings.warn(\n"
          ]
        }
      ]
    }
  ]
}